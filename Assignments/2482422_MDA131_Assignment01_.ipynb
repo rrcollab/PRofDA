{
 "cells": [
  {
   "cell_type": "markdown",
   "id": "f79e2d97-88f2-4621-a708-1f0a504f76ee",
   "metadata": {},
   "source": [
    "# Employee Data and Attrition Study"
   ]
  },
  {
   "cell_type": "markdown",
   "id": "4e278daa-e7b2-485f-9ea2-c1ee923c97d3",
   "metadata": {},
   "source": [
    "**Purpose of this book:** \n",
    "\n",
    "To perform a Exploratory Data Analysius (EDA) on  Employee Attriation Data retived from <a href=\"https://www.kaggle.com/datasets/mrsimple07/employee-attrition-data-prediction\">Employee Attrition data prediction</a> \n",
    "\n"
   ]
  },
  {
   "cell_type": "markdown",
   "id": "4fc9dfa0-91f7-4cda-b5a0-ad5fa9fbcbc1",
   "metadata": {},
   "source": [
    "**Summary on data**\n",
    "\n",
    "This dataset contains synthetic data for employee attrition with a sample size of 1000 unique listing. \n",
    "\n",
    "With Nine (9) columns of data populated for each identifier (i.e masked employee number) with the parameters such as age <sup>1</sup>, gender <sup>2</sup>, department <sup>3</sup>,job title <sup>4</sup>, number of years at the company <sup>5</sup>, satisfaction level <sup>6</sup>, Average working hours per month <sup>7</sup>, promotion in last 5 years <sup>8</sup>, salary (in Euros) <sup>9</sup>.\n",
    "\n",
    "Here we simulate a scenario ('Attrition') where the various other factors mentioned to influence whether an employee stays with a company or leaves. "
   ]
  },
  {
   "cell_type": "code",
   "execution_count": 273,
   "id": "cd9a11f6-0957-4433-94b7-ce8d4dd5f94a",
   "metadata": {},
   "outputs": [],
   "source": [
    "import pandas as pd\n",
    "import matplotlib.pyplot as plt\n",
    "import seaborn as sns\n",
    "from sklearn.linear_model import LinearRegression\n",
    "from sklearn.model_selection import KFold, cross_val_score, train_test_split\n",
    "from sklearn.model_selection import train_test_split\n",
    "from sklearn.ensemble import RandomForestClassifier"
   ]
  },
  {
   "cell_type": "code",
   "execution_count": 274,
   "id": "6a9778c4-36f2-4460-8b45-ec0864bab1e4",
   "metadata": {},
   "outputs": [],
   "source": [
    "emp_data = pd.read_csv('D:\\Rich\\MDA\\T1\\dataset\\employee_attrition_data.csv')"
   ]
  },
  {
   "cell_type": "markdown",
   "id": "d67c31d3-48ab-4202-82b2-7b90110737c8",
   "metadata": {},
   "source": [
    "## Understanding the Data Sample"
   ]
  },
  {
   "cell_type": "code",
   "execution_count": 276,
   "id": "eae0e25a-aa70-4a3e-9308-d175e642d49c",
   "metadata": {},
   "outputs": [
    {
     "name": "stdout",
     "output_type": "stream",
     "text": [
      "<class 'pandas.core.frame.DataFrame'>\n",
      "RangeIndex: 1000 entries, 0 to 999\n",
      "Data columns (total 11 columns):\n",
      " #   Column                 Non-Null Count  Dtype  \n",
      "---  ------                 --------------  -----  \n",
      " 0   Employee_ID            1000 non-null   int64  \n",
      " 1   Age                    1000 non-null   int64  \n",
      " 2   Gender                 1000 non-null   object \n",
      " 3   Department             1000 non-null   object \n",
      " 4   Job_Title              1000 non-null   object \n",
      " 5   Years_at_Company       1000 non-null   int64  \n",
      " 6   Satisfaction_Level     1000 non-null   float64\n",
      " 7   Average_Monthly_Hours  1000 non-null   int64  \n",
      " 8   Promotion_Last_5Years  1000 non-null   int64  \n",
      " 9   Salary                 1000 non-null   int64  \n",
      " 10  Attrition              1000 non-null   int64  \n",
      "dtypes: float64(1), int64(7), object(3)\n",
      "memory usage: 86.1+ KB\n"
     ]
    }
   ],
   "source": [
    "emp_data.info()"
   ]
  },
  {
   "cell_type": "code",
   "execution_count": 277,
   "id": "38824aa1-f251-439b-86b0-3836d241edc3",
   "metadata": {},
   "outputs": [
    {
     "data": {
      "text/html": [
       "<div>\n",
       "<style scoped>\n",
       "    .dataframe tbody tr th:only-of-type {\n",
       "        vertical-align: middle;\n",
       "    }\n",
       "\n",
       "    .dataframe tbody tr th {\n",
       "        vertical-align: top;\n",
       "    }\n",
       "\n",
       "    .dataframe thead th {\n",
       "        text-align: right;\n",
       "    }\n",
       "</style>\n",
       "<table border=\"1\" class=\"dataframe\">\n",
       "  <thead>\n",
       "    <tr style=\"text-align: right;\">\n",
       "      <th></th>\n",
       "      <th>Employee_ID</th>\n",
       "      <th>Age</th>\n",
       "      <th>Years_at_Company</th>\n",
       "      <th>Satisfaction_Level</th>\n",
       "      <th>Average_Monthly_Hours</th>\n",
       "      <th>Promotion_Last_5Years</th>\n",
       "      <th>Salary</th>\n",
       "      <th>Attrition</th>\n",
       "    </tr>\n",
       "  </thead>\n",
       "  <tbody>\n",
       "    <tr>\n",
       "      <th>count</th>\n",
       "      <td>1000.000000</td>\n",
       "      <td>1000.000000</td>\n",
       "      <td>1000.000000</td>\n",
       "      <td>1000.000000</td>\n",
       "      <td>1000.000000</td>\n",
       "      <td>1000.000000</td>\n",
       "      <td>1000.000000</td>\n",
       "      <td>1000.000000</td>\n",
       "    </tr>\n",
       "    <tr>\n",
       "      <th>mean</th>\n",
       "      <td>499.500000</td>\n",
       "      <td>42.205000</td>\n",
       "      <td>5.605000</td>\n",
       "      <td>0.505995</td>\n",
       "      <td>199.493000</td>\n",
       "      <td>0.486000</td>\n",
       "      <td>64624.980000</td>\n",
       "      <td>0.495000</td>\n",
       "    </tr>\n",
       "    <tr>\n",
       "      <th>std</th>\n",
       "      <td>288.819436</td>\n",
       "      <td>10.016452</td>\n",
       "      <td>2.822223</td>\n",
       "      <td>0.289797</td>\n",
       "      <td>29.631908</td>\n",
       "      <td>0.500054</td>\n",
       "      <td>20262.984333</td>\n",
       "      <td>0.500225</td>\n",
       "    </tr>\n",
       "    <tr>\n",
       "      <th>min</th>\n",
       "      <td>0.000000</td>\n",
       "      <td>25.000000</td>\n",
       "      <td>1.000000</td>\n",
       "      <td>0.001376</td>\n",
       "      <td>150.000000</td>\n",
       "      <td>0.000000</td>\n",
       "      <td>30099.000000</td>\n",
       "      <td>0.000000</td>\n",
       "    </tr>\n",
       "    <tr>\n",
       "      <th>25%</th>\n",
       "      <td>249.750000</td>\n",
       "      <td>33.000000</td>\n",
       "      <td>3.000000</td>\n",
       "      <td>0.258866</td>\n",
       "      <td>173.000000</td>\n",
       "      <td>0.000000</td>\n",
       "      <td>47613.500000</td>\n",
       "      <td>0.000000</td>\n",
       "    </tr>\n",
       "    <tr>\n",
       "      <th>50%</th>\n",
       "      <td>499.500000</td>\n",
       "      <td>43.000000</td>\n",
       "      <td>6.000000</td>\n",
       "      <td>0.505675</td>\n",
       "      <td>201.000000</td>\n",
       "      <td>0.000000</td>\n",
       "      <td>64525.000000</td>\n",
       "      <td>0.000000</td>\n",
       "    </tr>\n",
       "    <tr>\n",
       "      <th>75%</th>\n",
       "      <td>749.250000</td>\n",
       "      <td>51.000000</td>\n",
       "      <td>8.000000</td>\n",
       "      <td>0.761135</td>\n",
       "      <td>225.000000</td>\n",
       "      <td>1.000000</td>\n",
       "      <td>81921.000000</td>\n",
       "      <td>1.000000</td>\n",
       "    </tr>\n",
       "    <tr>\n",
       "      <th>max</th>\n",
       "      <td>999.000000</td>\n",
       "      <td>59.000000</td>\n",
       "      <td>10.000000</td>\n",
       "      <td>0.999979</td>\n",
       "      <td>249.000000</td>\n",
       "      <td>1.000000</td>\n",
       "      <td>99991.000000</td>\n",
       "      <td>1.000000</td>\n",
       "    </tr>\n",
       "  </tbody>\n",
       "</table>\n",
       "</div>"
      ],
      "text/plain": [
       "       Employee_ID          Age  ...        Salary    Attrition\n",
       "count  1000.000000  1000.000000  ...   1000.000000  1000.000000\n",
       "mean    499.500000    42.205000  ...  64624.980000     0.495000\n",
       "std     288.819436    10.016452  ...  20262.984333     0.500225\n",
       "min       0.000000    25.000000  ...  30099.000000     0.000000\n",
       "25%     249.750000    33.000000  ...  47613.500000     0.000000\n",
       "50%     499.500000    43.000000  ...  64525.000000     0.000000\n",
       "75%     749.250000    51.000000  ...  81921.000000     1.000000\n",
       "max     999.000000    59.000000  ...  99991.000000     1.000000\n",
       "\n",
       "[8 rows x 8 columns]"
      ]
     },
     "execution_count": 277,
     "metadata": {},
     "output_type": "execute_result"
    }
   ],
   "source": [
    "emp_data.describe()"
   ]
  },
  {
   "cell_type": "code",
   "execution_count": 278,
   "id": "c19d08b2-1d06-4d7c-bd98-b52dc9ff4b3a",
   "metadata": {},
   "outputs": [
    {
     "data": {
      "text/plain": [
       "Employee_ID              1000\n",
       "Age                        35\n",
       "Gender                      2\n",
       "Department                  5\n",
       "Job_Title                   5\n",
       "Years_at_Company           10\n",
       "Satisfaction_Level       1000\n",
       "Average_Monthly_Hours     100\n",
       "Promotion_Last_5Years       2\n",
       "Salary                    995\n",
       "Attrition                   2\n",
       "dtype: int64"
      ]
     },
     "execution_count": 278,
     "metadata": {},
     "output_type": "execute_result"
    }
   ],
   "source": [
    "emp_data.nunique()"
   ]
  },
  {
   "cell_type": "code",
   "execution_count": 279,
   "id": "b21dbba9-c19e-436e-94c4-49c5e444e0d2",
   "metadata": {},
   "outputs": [
    {
     "data": {
      "text/plain": [
       "Employee_ID              0\n",
       "Age                      0\n",
       "Gender                   0\n",
       "Department               0\n",
       "Job_Title                0\n",
       "Years_at_Company         0\n",
       "Satisfaction_Level       0\n",
       "Average_Monthly_Hours    0\n",
       "Promotion_Last_5Years    0\n",
       "Salary                   0\n",
       "Attrition                0\n",
       "dtype: int64"
      ]
     },
     "execution_count": 279,
     "metadata": {},
     "output_type": "execute_result"
    }
   ],
   "source": [
    "emp_data.isnull().sum()"
   ]
  },
  {
   "cell_type": "markdown",
   "id": "e3849dae-7693-4aa7-9a0a-001a49517684",
   "metadata": {},
   "source": [
    "## EDA on the data"
   ]
  },
  {
   "cell_type": "code",
   "execution_count": 281,
   "id": "fd5c954c-c215-408c-b094-49bba7f01439",
   "metadata": {},
   "outputs": [],
   "source": [
    "eda_in = emp_data[:700]"
   ]
  },
  {
   "cell_type": "code",
   "execution_count": 282,
   "id": "e4bf3ff2-b9dc-4608-aaa5-b3f7aee5a4c1",
   "metadata": {},
   "outputs": [
    {
     "data": {
      "text/html": [
       "<div>\n",
       "<style scoped>\n",
       "    .dataframe tbody tr th:only-of-type {\n",
       "        vertical-align: middle;\n",
       "    }\n",
       "\n",
       "    .dataframe tbody tr th {\n",
       "        vertical-align: top;\n",
       "    }\n",
       "\n",
       "    .dataframe thead th {\n",
       "        text-align: right;\n",
       "    }\n",
       "</style>\n",
       "<table border=\"1\" class=\"dataframe\">\n",
       "  <thead>\n",
       "    <tr style=\"text-align: right;\">\n",
       "      <th></th>\n",
       "      <th>Employee_ID</th>\n",
       "      <th>Age</th>\n",
       "      <th>Gender</th>\n",
       "      <th>Department</th>\n",
       "      <th>Job_Title</th>\n",
       "      <th>Years_at_Company</th>\n",
       "      <th>Satisfaction_Level</th>\n",
       "      <th>Average_Monthly_Hours</th>\n",
       "      <th>Promotion_Last_5Years</th>\n",
       "      <th>Salary</th>\n",
       "      <th>Attrition</th>\n",
       "    </tr>\n",
       "  </thead>\n",
       "  <tbody>\n",
       "    <tr>\n",
       "      <th>0</th>\n",
       "      <td>0</td>\n",
       "      <td>27</td>\n",
       "      <td>Male</td>\n",
       "      <td>Marketing</td>\n",
       "      <td>Manager</td>\n",
       "      <td>9</td>\n",
       "      <td>0.586251</td>\n",
       "      <td>151</td>\n",
       "      <td>0</td>\n",
       "      <td>60132</td>\n",
       "      <td>0</td>\n",
       "    </tr>\n",
       "    <tr>\n",
       "      <th>1</th>\n",
       "      <td>1</td>\n",
       "      <td>53</td>\n",
       "      <td>Female</td>\n",
       "      <td>Sales</td>\n",
       "      <td>Engineer</td>\n",
       "      <td>10</td>\n",
       "      <td>0.261161</td>\n",
       "      <td>221</td>\n",
       "      <td>1</td>\n",
       "      <td>79947</td>\n",
       "      <td>0</td>\n",
       "    </tr>\n",
       "    <tr>\n",
       "      <th>2</th>\n",
       "      <td>2</td>\n",
       "      <td>59</td>\n",
       "      <td>Female</td>\n",
       "      <td>Marketing</td>\n",
       "      <td>Analyst</td>\n",
       "      <td>8</td>\n",
       "      <td>0.304382</td>\n",
       "      <td>184</td>\n",
       "      <td>0</td>\n",
       "      <td>46958</td>\n",
       "      <td>1</td>\n",
       "    </tr>\n",
       "    <tr>\n",
       "      <th>3</th>\n",
       "      <td>3</td>\n",
       "      <td>42</td>\n",
       "      <td>Female</td>\n",
       "      <td>Engineering</td>\n",
       "      <td>Manager</td>\n",
       "      <td>1</td>\n",
       "      <td>0.480779</td>\n",
       "      <td>242</td>\n",
       "      <td>0</td>\n",
       "      <td>40662</td>\n",
       "      <td>0</td>\n",
       "    </tr>\n",
       "    <tr>\n",
       "      <th>4</th>\n",
       "      <td>4</td>\n",
       "      <td>44</td>\n",
       "      <td>Female</td>\n",
       "      <td>Sales</td>\n",
       "      <td>Engineer</td>\n",
       "      <td>10</td>\n",
       "      <td>0.636244</td>\n",
       "      <td>229</td>\n",
       "      <td>1</td>\n",
       "      <td>74307</td>\n",
       "      <td>0</td>\n",
       "    </tr>\n",
       "  </tbody>\n",
       "</table>\n",
       "</div>"
      ],
      "text/plain": [
       "   Employee_ID  Age  Gender  ... Promotion_Last_5Years Salary  Attrition\n",
       "0            0   27    Male  ...                     0  60132          0\n",
       "1            1   53  Female  ...                     1  79947          0\n",
       "2            2   59  Female  ...                     0  46958          1\n",
       "3            3   42  Female  ...                     0  40662          0\n",
       "4            4   44  Female  ...                     1  74307          0\n",
       "\n",
       "[5 rows x 11 columns]"
      ]
     },
     "execution_count": 282,
     "metadata": {},
     "output_type": "execute_result"
    }
   ],
   "source": [
    "eda_in.head()"
   ]
  },
  {
   "cell_type": "code",
   "execution_count": 283,
   "id": "a4d78e71-b623-4410-896c-c07e0853cc6e",
   "metadata": {},
   "outputs": [],
   "source": [
    "eda_in = eda_in.rename(columns= {'Employee_ID':'EID','Gender':'M_F',\n",
    "                        'Department':'dep','Job_Title':'desg','Years_at_Company':'tenur',\n",
    "                        'Satisfaction_Level':'sscor','Average_Monthly_Hours':'M_Hrs',\n",
    "                        'Promotion_Last_5Years':'prom','Salary':'sal'})\n"
   ]
  },
  {
   "cell_type": "code",
   "execution_count": 284,
   "id": "6a5a9d02-f846-4087-a4d9-68bbd75590a2",
   "metadata": {},
   "outputs": [],
   "source": [
    "eda_in.loc[eda_in['M_F'] == 'Male', 'M_F'] = 1\n",
    "eda_in.loc[eda_in['M_F'] == 'Female', 'M_F'] = 0\n"
   ]
  },
  {
   "cell_type": "markdown",
   "id": "7d49569c-861f-467d-807a-3e62019c14be",
   "metadata": {},
   "source": [
    "**EDA 1** \n",
    "\n",
    "To validate if there is any correlation between age, gender and employee tenure with their Attrition"
   ]
  },
  {
   "cell_type": "code",
   "execution_count": 286,
   "id": "09922605-ee64-44ef-9437-8cec6003803f",
   "metadata": {},
   "outputs": [],
   "source": [
    "eda_1=eda_in[['Age','M_F','tenur','Attrition']]"
   ]
  },
  {
   "cell_type": "code",
   "execution_count": 287,
   "id": "63ff0f1e-6fe7-417f-97de-b5d38dcc3ec2",
   "metadata": {},
   "outputs": [
    {
     "data": {
      "text/html": [
       "<div>\n",
       "<style scoped>\n",
       "    .dataframe tbody tr th:only-of-type {\n",
       "        vertical-align: middle;\n",
       "    }\n",
       "\n",
       "    .dataframe tbody tr th {\n",
       "        vertical-align: top;\n",
       "    }\n",
       "\n",
       "    .dataframe thead th {\n",
       "        text-align: right;\n",
       "    }\n",
       "</style>\n",
       "<table border=\"1\" class=\"dataframe\">\n",
       "  <thead>\n",
       "    <tr style=\"text-align: right;\">\n",
       "      <th></th>\n",
       "      <th>Age</th>\n",
       "      <th>M_F</th>\n",
       "      <th>tenur</th>\n",
       "      <th>Attrition</th>\n",
       "    </tr>\n",
       "  </thead>\n",
       "  <tbody>\n",
       "    <tr>\n",
       "      <th>0</th>\n",
       "      <td>27</td>\n",
       "      <td>1</td>\n",
       "      <td>9</td>\n",
       "      <td>0</td>\n",
       "    </tr>\n",
       "    <tr>\n",
       "      <th>1</th>\n",
       "      <td>53</td>\n",
       "      <td>0</td>\n",
       "      <td>10</td>\n",
       "      <td>0</td>\n",
       "    </tr>\n",
       "    <tr>\n",
       "      <th>2</th>\n",
       "      <td>59</td>\n",
       "      <td>0</td>\n",
       "      <td>8</td>\n",
       "      <td>1</td>\n",
       "    </tr>\n",
       "    <tr>\n",
       "      <th>3</th>\n",
       "      <td>42</td>\n",
       "      <td>0</td>\n",
       "      <td>1</td>\n",
       "      <td>0</td>\n",
       "    </tr>\n",
       "    <tr>\n",
       "      <th>4</th>\n",
       "      <td>44</td>\n",
       "      <td>0</td>\n",
       "      <td>10</td>\n",
       "      <td>0</td>\n",
       "    </tr>\n",
       "  </tbody>\n",
       "</table>\n",
       "</div>"
      ],
      "text/plain": [
       "   Age M_F  tenur  Attrition\n",
       "0   27   1      9          0\n",
       "1   53   0     10          0\n",
       "2   59   0      8          1\n",
       "3   42   0      1          0\n",
       "4   44   0     10          0"
      ]
     },
     "execution_count": 287,
     "metadata": {},
     "output_type": "execute_result"
    }
   ],
   "source": [
    "eda_1.head()"
   ]
  },
  {
   "cell_type": "code",
   "execution_count": 288,
   "id": "d6ece82b-5502-47e0-9d03-aa4d2628c8d3",
   "metadata": {},
   "outputs": [],
   "source": [
    "num_cols_eda = [n for n in eda_1.columns if eda_in[n].dtypes!='O']"
   ]
  },
  {
   "cell_type": "code",
   "execution_count": 289,
   "id": "35e3c0de-0450-4d3d-9fa2-269acec6f538",
   "metadata": {},
   "outputs": [
    {
     "data": {
      "image/png": "[encoded data removed]",
      "text/plain": [
       "<Figure size 864x432 with 3 Axes>"
      ]
     },
     "metadata": {},
     "output_type": "display_data"
    }
   ],
   "source": [
    "fig, ax = plt.subplots(1,3, figsize=(12,6))\n",
    "ax = ax.flatten()\n",
    "\n",
    "for i, col in enumerate(num_cols_eda):\n",
    "    eda_1.boxplot(col, ax=ax[i])\n",
    "\n",
    "plt.tight_layout()\n",
    "plt.show()"
   ]
  },
  {
   "cell_type": "code",
   "execution_count": 290,
   "id": "c56b8afc-8344-4441-93ca-2f582f42a447",
   "metadata": {
    "scrolled": true
   },
   "outputs": [
    {
     "data": {
      "text/html": [
       "<div>\n",
       "<style scoped>\n",
       "    .dataframe tbody tr th:only-of-type {\n",
       "        vertical-align: middle;\n",
       "    }\n",
       "\n",
       "    .dataframe tbody tr th {\n",
       "        vertical-align: top;\n",
       "    }\n",
       "\n",
       "    .dataframe thead th {\n",
       "        text-align: right;\n",
       "    }\n",
       "</style>\n",
       "<table border=\"1\" class=\"dataframe\">\n",
       "  <thead>\n",
       "    <tr style=\"text-align: right;\">\n",
       "      <th></th>\n",
       "      <th>Age</th>\n",
       "      <th>M_F</th>\n",
       "      <th>tenur</th>\n",
       "      <th>Attrition</th>\n",
       "    </tr>\n",
       "  </thead>\n",
       "  <tbody>\n",
       "    <tr>\n",
       "      <th>Age</th>\n",
       "      <td>1.000000</td>\n",
       "      <td>0.047364</td>\n",
       "      <td>0.011225</td>\n",
       "      <td>-0.021049</td>\n",
       "    </tr>\n",
       "    <tr>\n",
       "      <th>M_F</th>\n",
       "      <td>0.047364</td>\n",
       "      <td>1.000000</td>\n",
       "      <td>0.026030</td>\n",
       "      <td>-0.025966</td>\n",
       "    </tr>\n",
       "    <tr>\n",
       "      <th>tenur</th>\n",
       "      <td>0.011225</td>\n",
       "      <td>0.026030</td>\n",
       "      <td>1.000000</td>\n",
       "      <td>-0.029907</td>\n",
       "    </tr>\n",
       "    <tr>\n",
       "      <th>Attrition</th>\n",
       "      <td>-0.021049</td>\n",
       "      <td>-0.025966</td>\n",
       "      <td>-0.029907</td>\n",
       "      <td>1.000000</td>\n",
       "    </tr>\n",
       "  </tbody>\n",
       "</table>\n",
       "</div>"
      ],
      "text/plain": [
       "                Age       M_F     tenur  Attrition\n",
       "Age        1.000000  0.047364  0.011225  -0.021049\n",
       "M_F        0.047364  1.000000  0.026030  -0.025966\n",
       "tenur      0.011225  0.026030  1.000000  -0.029907\n",
       "Attrition -0.021049 -0.025966 -0.029907   1.000000"
      ]
     },
     "execution_count": 290,
     "metadata": {},
     "output_type": "execute_result"
    }
   ],
   "source": [
    "eda_1.corr()"
   ]
  },
  {
   "cell_type": "code",
   "execution_count": 291,
   "id": "abe5fec8-8b04-4998-9efa-3d0683e3c15b",
   "metadata": {},
   "outputs": [
    {
     "data": {
      "image/png": "[encoded data removed]",
      "text/plain": [
       "<Figure size 864x864 with 2 Axes>"
      ]
     },
     "metadata": {},
     "output_type": "display_data"
    }
   ],
   "source": [
    "colormap = plt.cm.viridis\n",
    "plt.figure(figsize=(12,12))\n",
    "plt.title('Pearson Correlation of Features', size=12)\n",
    "ax = sns.heatmap(eda_1[num_cols_eda].corr(), cmap=colormap, annot=True, vmin=-1, vmax=1)\n",
    "plt.show()"
   ]
  },
  {
   "cell_type": "markdown",
   "id": "e76aef1a-bb44-496f-8a6b-3e97ed8c6e3b",
   "metadata": {},
   "source": [
    "**EDA 2** \n",
    "\n",
    "To validate if there is any correlation between employee's monthly effort (average monthly hours), promotion in last 5 years and latest salary."
   ]
  },
  {
   "cell_type": "code",
   "execution_count": 293,
   "id": "05b454a3-2271-465b-a9a6-72557524e1d9",
   "metadata": {},
   "outputs": [],
   "source": [
    "eda_2=eda_in[['M_Hrs','sal','prom','Attrition']]"
   ]
  },
  {
   "cell_type": "code",
   "execution_count": 294,
   "id": "abbf7909-4ee1-4f54-ae37-4107e3e4e34b",
   "metadata": {},
   "outputs": [
    {
     "data": {
      "text/html": [
       "<div>\n",
       "<style scoped>\n",
       "    .dataframe tbody tr th:only-of-type {\n",
       "        vertical-align: middle;\n",
       "    }\n",
       "\n",
       "    .dataframe tbody tr th {\n",
       "        vertical-align: top;\n",
       "    }\n",
       "\n",
       "    .dataframe thead th {\n",
       "        text-align: right;\n",
       "    }\n",
       "</style>\n",
       "<table border=\"1\" class=\"dataframe\">\n",
       "  <thead>\n",
       "    <tr style=\"text-align: right;\">\n",
       "      <th></th>\n",
       "      <th>M_Hrs</th>\n",
       "      <th>sal</th>\n",
       "      <th>prom</th>\n",
       "      <th>Attrition</th>\n",
       "    </tr>\n",
       "  </thead>\n",
       "  <tbody>\n",
       "    <tr>\n",
       "      <th>0</th>\n",
       "      <td>151</td>\n",
       "      <td>60132</td>\n",
       "      <td>0</td>\n",
       "      <td>0</td>\n",
       "    </tr>\n",
       "    <tr>\n",
       "      <th>1</th>\n",
       "      <td>221</td>\n",
       "      <td>79947</td>\n",
       "      <td>1</td>\n",
       "      <td>0</td>\n",
       "    </tr>\n",
       "    <tr>\n",
       "      <th>2</th>\n",
       "      <td>184</td>\n",
       "      <td>46958</td>\n",
       "      <td>0</td>\n",
       "      <td>1</td>\n",
       "    </tr>\n",
       "    <tr>\n",
       "      <th>3</th>\n",
       "      <td>242</td>\n",
       "      <td>40662</td>\n",
       "      <td>0</td>\n",
       "      <td>0</td>\n",
       "    </tr>\n",
       "    <tr>\n",
       "      <th>4</th>\n",
       "      <td>229</td>\n",
       "      <td>74307</td>\n",
       "      <td>1</td>\n",
       "      <td>0</td>\n",
       "    </tr>\n",
       "  </tbody>\n",
       "</table>\n",
       "</div>"
      ],
      "text/plain": [
       "   M_Hrs    sal  prom  Attrition\n",
       "0    151  60132     0          0\n",
       "1    221  79947     1          0\n",
       "2    184  46958     0          1\n",
       "3    242  40662     0          0\n",
       "4    229  74307     1          0"
      ]
     },
     "execution_count": 294,
     "metadata": {},
     "output_type": "execute_result"
    }
   ],
   "source": [
    "eda_2.head()"
   ]
  },
  {
   "cell_type": "code",
   "execution_count": 295,
   "id": "9f0ed5bf-7da4-44dc-ae44-bd4dce2b5a43",
   "metadata": {},
   "outputs": [],
   "source": [
    "num_cols_eda = [n for n in eda_2.columns if eda_in[n].dtypes!='O']"
   ]
  },
  {
   "cell_type": "code",
   "execution_count": 296,
   "id": "9f768cc7-500b-4c65-9435-10b343129746",
   "metadata": {},
   "outputs": [
    {
     "data": {
      "image/png": "[encoded data removed]",
      "text/plain": [
       "<Figure size 864x432 with 4 Axes>"
      ]
     },
     "metadata": {},
     "output_type": "display_data"
    }
   ],
   "source": [
    "fig, ax = plt.subplots(1,4, figsize=(12,6))\n",
    "ax = ax.flatten()\n",
    "\n",
    "for i, col in enumerate(num_cols_eda):\n",
    "    eda_2.boxplot(col, ax=ax[i])\n",
    "\n",
    "plt.tight_layout()\n",
    "plt.show()"
   ]
  },
  {
   "cell_type": "code",
   "execution_count": 297,
   "id": "193c7569-0a19-4102-bb61-f84d57b6ada3",
   "metadata": {},
   "outputs": [
    {
     "data": {
      "text/html": [
       "<div>\n",
       "<style scoped>\n",
       "    .dataframe tbody tr th:only-of-type {\n",
       "        vertical-align: middle;\n",
       "    }\n",
       "\n",
       "    .dataframe tbody tr th {\n",
       "        vertical-align: top;\n",
       "    }\n",
       "\n",
       "    .dataframe thead th {\n",
       "        text-align: right;\n",
       "    }\n",
       "</style>\n",
       "<table border=\"1\" class=\"dataframe\">\n",
       "  <thead>\n",
       "    <tr style=\"text-align: right;\">\n",
       "      <th></th>\n",
       "      <th>M_Hrs</th>\n",
       "      <th>sal</th>\n",
       "      <th>prom</th>\n",
       "      <th>Attrition</th>\n",
       "    </tr>\n",
       "  </thead>\n",
       "  <tbody>\n",
       "    <tr>\n",
       "      <th>M_Hrs</th>\n",
       "      <td>1.000000</td>\n",
       "      <td>-0.110622</td>\n",
       "      <td>-0.039940</td>\n",
       "      <td>-0.068749</td>\n",
       "    </tr>\n",
       "    <tr>\n",
       "      <th>sal</th>\n",
       "      <td>-0.110622</td>\n",
       "      <td>1.000000</td>\n",
       "      <td>0.023801</td>\n",
       "      <td>-0.047515</td>\n",
       "    </tr>\n",
       "    <tr>\n",
       "      <th>prom</th>\n",
       "      <td>-0.039940</td>\n",
       "      <td>0.023801</td>\n",
       "      <td>1.000000</td>\n",
       "      <td>-0.023066</td>\n",
       "    </tr>\n",
       "    <tr>\n",
       "      <th>Attrition</th>\n",
       "      <td>-0.068749</td>\n",
       "      <td>-0.047515</td>\n",
       "      <td>-0.023066</td>\n",
       "      <td>1.000000</td>\n",
       "    </tr>\n",
       "  </tbody>\n",
       "</table>\n",
       "</div>"
      ],
      "text/plain": [
       "              M_Hrs       sal      prom  Attrition\n",
       "M_Hrs      1.000000 -0.110622 -0.039940  -0.068749\n",
       "sal       -0.110622  1.000000  0.023801  -0.047515\n",
       "prom      -0.039940  0.023801  1.000000  -0.023066\n",
       "Attrition -0.068749 -0.047515 -0.023066   1.000000"
      ]
     },
     "execution_count": 297,
     "metadata": {},
     "output_type": "execute_result"
    }
   ],
   "source": [
    "eda_2.corr()"
   ]
  },
  {
   "cell_type": "code",
   "execution_count": 298,
   "id": "b825dcd5-e0a9-4d1d-8840-f16276edd7ab",
   "metadata": {},
   "outputs": [
    {
     "data": {
      "image/png": "[encoded data removed]",
      "text/plain": [
       "<Figure size 864x864 with 2 Axes>"
      ]
     },
     "metadata": {},
     "output_type": "display_data"
    }
   ],
   "source": [
    "\n",
    "colormap = plt.cm.viridis\n",
    "plt.figure(figsize=(12,12))\n",
    "plt.title('Pearson Correlation of Features', size=12)\n",
    "ax = sns.heatmap(eda_2[num_cols_eda].corr(), cmap=colormap, annot=True, vmin=-1, vmax=1)\n",
    "plt.show()"
   ]
  },
  {
   "cell_type": "code",
   "execution_count": null,
   "id": "5b51d721-3b0a-4532-93b1-32bb78be41e5",
   "metadata": {},
   "outputs": [],
   "source": []
  }
 ],
 "metadata": {
  "kernelspec": {
   "display_name": "Python 3 (Spyder)",
   "language": "python3",
   "name": "python3"
  },
  "language_info": {
   "codemirror_mode": {
    "name": "ipython",
    "version": 3
   },
   "file_extension": ".py",
   "mimetype": "text/x-python",
   "name": "python",
   "nbconvert_exporter": "python",
   "pygments_lexer": "ipython3",
   "version": "3.11.9"
  }
 },
 "nbformat": 4,
 "nbformat_minor": 5
}
